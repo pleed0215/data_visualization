{
 "cells": [
  {
   "cell_type": "code",
   "execution_count": 7,
   "metadata": {},
   "outputs": [
    {
     "data": {
      "application/vnd.plotly.v1+json": {
       "config": {
        "plotlyServerURL": "https://plot.ly"
       },
       "data": [
        {
         "customdata": [
          [
           5961094,
           182761,
           2140614,
           "US"
          ],
          [
           3846153,
           120262,
           3202185,
           "Brazil"
          ],
          [
           3542733,
           63498,
           2713933,
           "India"
          ],
          [
           982573,
           16977,
           802365,
           "Russia"
          ],
          [
           629961,
           28471,
           438017,
           "Peru"
          ],
          [
           622551,
           13981,
           536694,
           "South Africa"
          ],
          [
           599884,
           19063,
           440562,
           "Colombia"
          ],
          [
           591712,
           63819,
           484283,
           "Mexico"
          ],
          [
           439286,
           29011,
           150376,
           "Spain"
          ],
          [
           408009,
           11181,
           381183,
           "Chile"
          ],
          [
           401239,
           8353,
           287220,
           "Argentina"
          ],
          [
           371816,
           21359,
           319847,
           "Iran"
          ],
          [
           334916,
           41585,
           1622,
           "United Kingdom"
          ],
          [
           313911,
           3840,
           288441,
           "Saudi Arabia"
          ],
          [
           308925,
           4206,
           198863,
           "Bangladesh"
          ],
          [
           304947,
           30601,
           86495,
           "France"
          ],
          [
           295372,
           6284,
           280340,
           "Pakistan"
          ],
          [
           267064,
           6284,
           242812,
           "Turkey"
          ],
          [
           266853,
           35473,
           208224,
           "Italy"
          ],
          [
           242835,
           9299,
           214790,
           "Germany"
          ],
          [
           227446,
           6891,
           169020,
           "Iraq"
          ],
          [
           213131,
           3419,
           135101,
           "Philippines"
          ],
          [
           169195,
           7261,
           122802,
           "Indonesia"
          ],
          [
           129639,
           9161,
           115294,
           "Canada"
          ],
          [
           119751,
           2540,
           58156,
           "Ukraine"
          ],
          [
           118407,
           196,
           115251,
           "Qatar"
          ],
          [
           115354,
           4938,
           56749,
           "Bolivia"
          ],
          [
           113465,
           906,
           92104,
           "Israel"
          ],
          [
           112906,
           6537,
           95429,
           "Ecuador"
          ],
          [
           105684,
           1523,
           96135,
           "Kazakhstan"
          ],
          [
           98497,
           5376,
           71302,
           "Egypt"
          ],
          [
           93732,
           1673,
           66320,
           "Dominican Republic"
          ],
          [
           91337,
           1983,
           65119,
           "Panama"
          ],
          [
           89863,
           4721,
           84484,
           "China"
          ],
          [
           85833,
           3539,
           37388,
           "Romania"
          ],
          [
           85005,
           650,
           79608,
           "Oman"
          ],
          [
           84599,
           9891,
           18403,
           "Belgium"
          ],
          [
           84224,
           528,
           75993,
           "Kuwait"
          ],
          [
           83958,
           5821,
           0,
           "Sweden"
          ],
          [
           73679,
           2728,
           61163,
           "Guatemala"
          ],
          [
           72128,
           6252,
           986,
           "Netherlands"
          ],
          [
           71523,
           671,
           70207,
           "Belarus"
          ],
          [
           69328,
           379,
           60202,
           "United Arab Emirates"
          ],
          [
           67353,
           1271,
           54883,
           "Japan"
          ],
          [
           66239,
           2032,
           45536,
           "Poland"
          ],
          [
           60056,
           1078,
           44618,
           "Morocco"
          ],
          [
           59645,
           1842,
           10156,
           "Honduras"
          ],
          [
           57448,
           1818,
           41766,
           "Portugal"
          ],
          [
           56717,
           27,
           55447,
           "Singapore"
          ],
          [
           53727,
           1011,
           41314,
           "Nigeria"
          ],
          [
           51391,
           189,
           48275,
           "Bahrain"
          ],
          [
           49654,
           770,
           18116,
           "Ethiopia"
          ],
          [
           44946,
           375,
           36175,
           "Venezuela"
          ],
          [
           44118,
           270,
           42581,
           "Ghana"
          ],
          [
           43781,
           1491,
           30717,
           "Algeria"
          ],
          [
           43712,
           1057,
           37973,
           "Kyrgyzstan"
          ],
          [
           43626,
           872,
           37563,
           "Armenia"
          ],
          [
           41722,
           2005,
           35200,
           "Switzerland"
          ],
          [
           41067,
           307,
           38250,
           "Uzbekistan"
          ],
          [
           39699,
           418,
           15737,
           "Costa Rica"
          ],
          [
           38143,
           1402,
           29063,
           "Afghanistan"
          ],
          [
           37340,
           207,
           20555,
           "Nepal"
          ],
          [
           36404,
           990,
           25139,
           "Moldova"
          ],
          [
           36174,
           529,
           33576,
           "Azerbaijan"
          ],
          [
           33794,
           572,
           19590,
           "Kenya"
          ],
          [
           31282,
           710,
           0,
           "Serbia"
          ],
          [
           28720,
           1777,
           23364,
           "Ireland"
          ],
          [
           26985,
           733,
           22866,
           "Austria"
          ],
          [
           25670,
           611,
           20858,
           "Australia"
          ],
          [
           25537,
           708,
           13799,
           "El Salvador"
          ],
          [
           24094,
           421,
           17541,
           "Czechia"
          ],
          [
           21668,
           147,
           14631,
           "West Bank and Gaza"
          ],
          [
           19699,
           323,
           14903,
           "Korea, South"
          ],
          [
           19550,
           594,
           12858,
           "Bosnia and Herzegovina"
          ],
          [
           19142,
           411,
           17651,
           "Cameroon"
          ],
          [
           17893,
           115,
           16440,
           "Cote d'Ivoire"
          ],
          [
           17204,
           624,
           15365,
           "Denmark"
          ],
          [
           16474,
           294,
           8854,
           "Paraguay"
          ],
          [
           16275,
           155,
           4484,
           "Lebanon"
          ],
          [
           16164,
           605,
           11253,
           "Bulgaria"
          ],
          [
           14791,
           190,
           13753,
           "Madagascar"
          ],
          [
           14293,
           596,
           11014,
           "North Macedonia"
          ],
          [
           13456,
           282,
           9233,
           "Senegal"
          ],
          [
           13189,
           823,
           6612,
           "Sudan"
          ],
          [
           12958,
           231,
           1333,
           "Libya"
          ],
          [
           12683,
           488,
           8788,
           "Kosovo"
          ],
          [
           11902,
           284,
           11092,
           "Zambia"
          ],
          [
           10611,
           264,
           9348,
           "Norway"
          ],
          [
           10007,
           258,
           9068,
           "Congo (Kinshasa)"
          ],
          [
           9977,
           260,
           1347,
           "Greece"
          ],
          [
           9861,
           183,
           7024,
           "Croatia"
          ],
          [
           9317,
           125,
           9038,
           "Malaysia"
          ],
          [
           9279,
           275,
           5020,
           "Albania"
          ],
          [
           9251,
           59,
           8282,
           "Guinea"
          ],
          [
           8516,
           68,
           7309,
           "Tajikistan"
          ],
          [
           8505,
           53,
           7187,
           "Gabon"
          ],
          [
           8174,
           201,
           5743,
           "Haiti"
          ],
          [
           8049,
           335,
           7200,
           "Finland"
          ],
          [
           7578,
           28,
           4925,
           "Maldives"
          ],
          [
           7116,
           69,
           2817,
           "Namibia"
          ],
          [
           7012,
           158,
           6407,
           "Mauritania"
          ],
          [
           6625,
           124,
           7140,
           "Luxembourg"
          ],
          [
           6406,
           196,
           5056,
           "Zimbabwe"
          ],
          [
           5669,
           614,
           3759,
           "Hungary"
          ],
          [
           5528,
           174,
           3143,
           "Malawi"
          ],
          [
           5385,
           60,
           5314,
           "Djibouti"
          ],
          [
           4941,
           83,
           3884,
           "Equatorial Guinea"
          ],
          [
           4727,
           93,
           3839,
           "Montenegro"
          ],
          [
           4700,
           61,
           1784,
           "Central African Republic"
          ],
          [
           4510,
           91,
           3359,
           "Eswatini"
          ],
          [
           4494,
           137,
           2913,
           "Nicaragua"
          ],
          [
           3979,
           78,
           1742,
           "Congo (Brazzaville)"
          ],
          [
           3954,
           67,
           2991,
           "Suriname"
          ],
          [
           3925,
           94,
           3273,
           "Cuba"
          ],
          [
           3843,
           16,
           1904,
           "Rwanda"
          ],
          [
           3842,
           33,
           2254,
           "Slovakia"
          ],
          [
           3778,
           39,
           2855,
           "Cabo Verde"
          ],
          [
           3760,
           22,
           2078,
           "Mozambique"
          ],
          [
           3572,
           76,
           1536,
           "Tunisia"
          ],
          [
           3411,
           58,
           3242,
           "Thailand"
          ],
          [
           3310,
           97,
           2481,
           "Somalia"
          ],
          [
           2995,
           12,
           2849,
           "Sri Lanka"
          ],
          [
           2895,
           96,
           751,
           "Gambia"
          ],
          [
           2847,
           29,
           1288,
           "Uganda"
          ],
          [
           2839,
           86,
           1833,
           "Lithuania"
          ],
          [
           2834,
           133,
           2268,
           "Slovenia"
          ],
          [
           2757,
           126,
           2121,
           "Mali"
          ],
          [
           2628,
           106,
           599,
           "Syria"
          ],
          [
           2551,
           107,
           1041,
           "Angola"
          ],
          [
           2519,
           47,
           1290,
           "South Sudan"
          ],
          [
           2363,
           64,
           2086,
           "Estonia"
          ],
          [
           2205,
           34,
           1127,
           "Guinea-Bissau"
          ],
          [
           2145,
           40,
           1738,
           "Benin"
          ],
          [
           2135,
           50,
           782,
           "Bahamas"
          ],
          [
           2113,
           20,
           890,
           "Jamaica"
          ],
          [
           2100,
           10,
           1979,
           "Iceland"
          ],
          [
           2019,
           70,
           1591,
           "Sierra Leone"
          ],
          [
           1946,
           563,
           1113,
           "Yemen"
          ],
          [
           1893,
           15,
           1447,
           "Jordan"
          ],
          [
           1847,
           10,
           1244,
           "Malta"
          ],
          [
           1729,
           22,
           1570,
           "New Zealand"
          ],
          [
           1645,
           19,
           894,
           "Trinidad and Tobago"
          ],
          [
           1570,
           44,
           1364,
           "Uruguay"
          ],
          [
           1562,
           3,
           199,
           "Botswana"
          ],
          [
           1483,
           20,
           935,
           "Cyprus"
          ],
          [
           1462,
           19,
           1196,
           "Georgia"
          ],
          [
           1390,
           27,
           990,
           "Togo"
          ],
          [
           1381,
           34,
           1163,
           "Latvia"
          ],
          [
           1352,
           55,
           1058,
           "Burkina Faso"
          ],
          [
           1304,
           82,
           872,
           "Liberia"
          ],
          [
           1184,
           35,
           636,
           "Guyana"
          ],
          [
           1175,
           69,
           1085,
           "Niger"
          ],
          [
           1124,
           53,
           902,
           "Andorra"
          ],
          [
           1051,
           31,
           526,
           "Lesotho"
          ],
          [
           1040,
           32,
           677,
           "Vietnam"
          ],
          [
           1008,
           77,
           878,
           "Chad"
          ],
          [
           964,
           13,
           115,
           "Belize"
          ],
          [
           895,
           15,
           848,
           "Sao Tome and Principe"
          ],
          [
           749,
           6,
           351,
           "Burma"
          ],
          [
           712,
           13,
           651,
           "Diamond Princess"
          ],
          [
           710,
           42,
           658,
           "San Marino"
          ],
          [
           509,
           21,
           183,
           "Tanzania"
          ],
          [
           488,
           7,
           462,
           "Taiwan*"
          ],
          [
           453,
           5,
           232,
           "Papua New Guinea"
          ],
          [
           445,
           1,
           357,
           "Burundi"
          ],
          [
           423,
           7,
           399,
           "Comoros"
          ],
          [
           355,
           10,
           335,
           "Mauritius"
          ],
          [
           318,
           0,
           284,
           "Eritrea"
          ],
          [
           301,
           0,
           295,
           "Mongolia"
          ],
          [
           273,
           0,
           265,
           "Cambodia"
          ],
          [
           195,
           0,
           135,
           "Bhutan"
          ],
          [
           170,
           7,
           141,
           "Barbados"
          ],
          [
           154,
           4,
           116,
           "Monaco"
          ],
          [
           144,
           3,
           139,
           "Brunei"
          ],
          [
           136,
           0,
           127,
           "Seychelles"
          ],
          [
           107,
           1,
           97,
           "Liechtenstein"
          ],
          [
           94,
           3,
           89,
           "Antigua and Barbuda"
          ],
          [
           60,
           0,
           57,
           "Saint Vincent and the Grenadines"
          ],
          [
           28,
           2,
           23,
           "Fiji"
          ],
          [
           27,
           0,
           25,
           "Timor-Leste"
          ],
          [
           26,
           0,
           25,
           "Saint Lucia"
          ],
          [
           24,
           0,
           24,
           "Grenada"
          ],
          [
           22,
           0,
           21,
           "Laos"
          ],
          [
           20,
           0,
           18,
           "Dominica"
          ],
          [
           17,
           0,
           17,
           "Saint Kitts and Nevis"
          ],
          [
           12,
           0,
           12,
           "Holy See"
          ],
          [
           10,
           1,
           8,
           "Western Sahara"
          ],
          [
           9,
           2,
           0,
           "MS Zaandam"
          ]
         ],
         "geo": "geo",
         "hovertemplate": "<b>%{hovertext}</b><br><br>Confirmed=%{marker.color:,2f}<br>Deaths=%{customdata[1]:,2f}<br>Recovered=%{customdata[2]:,2f}<extra></extra>",
         "hovertext": [
          "US",
          "Brazil",
          "India",
          "Russia",
          "Peru",
          "South Africa",
          "Colombia",
          "Mexico",
          "Spain",
          "Chile",
          "Argentina",
          "Iran",
          "United Kingdom",
          "Saudi Arabia",
          "Bangladesh",
          "France",
          "Pakistan",
          "Turkey",
          "Italy",
          "Germany",
          "Iraq",
          "Philippines",
          "Indonesia",
          "Canada",
          "Ukraine",
          "Qatar",
          "Bolivia",
          "Israel",
          "Ecuador",
          "Kazakhstan",
          "Egypt",
          "Dominican Republic",
          "Panama",
          "China",
          "Romania",
          "Oman",
          "Belgium",
          "Kuwait",
          "Sweden",
          "Guatemala",
          "Netherlands",
          "Belarus",
          "United Arab Emirates",
          "Japan",
          "Poland",
          "Morocco",
          "Honduras",
          "Portugal",
          "Singapore",
          "Nigeria",
          "Bahrain",
          "Ethiopia",
          "Venezuela",
          "Ghana",
          "Algeria",
          "Kyrgyzstan",
          "Armenia",
          "Switzerland",
          "Uzbekistan",
          "Costa Rica",
          "Afghanistan",
          "Nepal",
          "Moldova",
          "Azerbaijan",
          "Kenya",
          "Serbia",
          "Ireland",
          "Austria",
          "Australia",
          "El Salvador",
          "Czechia",
          "West Bank and Gaza",
          "Korea, South",
          "Bosnia and Herzegovina",
          "Cameroon",
          "Cote d'Ivoire",
          "Denmark",
          "Paraguay",
          "Lebanon",
          "Bulgaria",
          "Madagascar",
          "North Macedonia",
          "Senegal",
          "Sudan",
          "Libya",
          "Kosovo",
          "Zambia",
          "Norway",
          "Congo (Kinshasa)",
          "Greece",
          "Croatia",
          "Malaysia",
          "Albania",
          "Guinea",
          "Tajikistan",
          "Gabon",
          "Haiti",
          "Finland",
          "Maldives",
          "Namibia",
          "Mauritania",
          "Luxembourg",
          "Zimbabwe",
          "Hungary",
          "Malawi",
          "Djibouti",
          "Equatorial Guinea",
          "Montenegro",
          "Central African Republic",
          "Eswatini",
          "Nicaragua",
          "Congo (Brazzaville)",
          "Suriname",
          "Cuba",
          "Rwanda",
          "Slovakia",
          "Cabo Verde",
          "Mozambique",
          "Tunisia",
          "Thailand",
          "Somalia",
          "Sri Lanka",
          "Gambia",
          "Uganda",
          "Lithuania",
          "Slovenia",
          "Mali",
          "Syria",
          "Angola",
          "South Sudan",
          "Estonia",
          "Guinea-Bissau",
          "Benin",
          "Bahamas",
          "Jamaica",
          "Iceland",
          "Sierra Leone",
          "Yemen",
          "Jordan",
          "Malta",
          "New Zealand",
          "Trinidad and Tobago",
          "Uruguay",
          "Botswana",
          "Cyprus",
          "Georgia",
          "Togo",
          "Latvia",
          "Burkina Faso",
          "Liberia",
          "Guyana",
          "Niger",
          "Andorra",
          "Lesotho",
          "Vietnam",
          "Chad",
          "Belize",
          "Sao Tome and Principe",
          "Burma",
          "Diamond Princess",
          "San Marino",
          "Tanzania",
          "Taiwan*",
          "Papua New Guinea",
          "Burundi",
          "Comoros",
          "Mauritius",
          "Eritrea",
          "Mongolia",
          "Cambodia",
          "Bhutan",
          "Barbados",
          "Monaco",
          "Brunei",
          "Seychelles",
          "Liechtenstein",
          "Antigua and Barbuda",
          "Saint Vincent and the Grenadines",
          "Fiji",
          "Timor-Leste",
          "Saint Lucia",
          "Grenada",
          "Laos",
          "Dominica",
          "Saint Kitts and Nevis",
          "Holy See",
          "Western Sahara",
          "MS Zaandam"
         ],
         "legendgroup": "",
         "locationmode": "country names",
         "locations": [
          "US",
          "Brazil",
          "India",
          "Russia",
          "Peru",
          "South Africa",
          "Colombia",
          "Mexico",
          "Spain",
          "Chile",
          "Argentina",
          "Iran",
          "United Kingdom",
          "Saudi Arabia",
          "Bangladesh",
          "France",
          "Pakistan",
          "Turkey",
          "Italy",
          "Germany",
          "Iraq",
          "Philippines",
          "Indonesia",
          "Canada",
          "Ukraine",
          "Qatar",
          "Bolivia",
          "Israel",
          "Ecuador",
          "Kazakhstan",
          "Egypt",
          "Dominican Republic",
          "Panama",
          "China",
          "Romania",
          "Oman",
          "Belgium",
          "Kuwait",
          "Sweden",
          "Guatemala",
          "Netherlands",
          "Belarus",
          "United Arab Emirates",
          "Japan",
          "Poland",
          "Morocco",
          "Honduras",
          "Portugal",
          "Singapore",
          "Nigeria",
          "Bahrain",
          "Ethiopia",
          "Venezuela",
          "Ghana",
          "Algeria",
          "Kyrgyzstan",
          "Armenia",
          "Switzerland",
          "Uzbekistan",
          "Costa Rica",
          "Afghanistan",
          "Nepal",
          "Moldova",
          "Azerbaijan",
          "Kenya",
          "Serbia",
          "Ireland",
          "Austria",
          "Australia",
          "El Salvador",
          "Czechia",
          "West Bank and Gaza",
          "Korea, South",
          "Bosnia and Herzegovina",
          "Cameroon",
          "Cote d'Ivoire",
          "Denmark",
          "Paraguay",
          "Lebanon",
          "Bulgaria",
          "Madagascar",
          "North Macedonia",
          "Senegal",
          "Sudan",
          "Libya",
          "Kosovo",
          "Zambia",
          "Norway",
          "Congo (Kinshasa)",
          "Greece",
          "Croatia",
          "Malaysia",
          "Albania",
          "Guinea",
          "Tajikistan",
          "Gabon",
          "Haiti",
          "Finland",
          "Maldives",
          "Namibia",
          "Mauritania",
          "Luxembourg",
          "Zimbabwe",
          "Hungary",
          "Malawi",
          "Djibouti",
          "Equatorial Guinea",
          "Montenegro",
          "Central African Republic",
          "Eswatini",
          "Nicaragua",
          "Congo (Brazzaville)",
          "Suriname",
          "Cuba",
          "Rwanda",
          "Slovakia",
          "Cabo Verde",
          "Mozambique",
          "Tunisia",
          "Thailand",
          "Somalia",
          "Sri Lanka",
          "Gambia",
          "Uganda",
          "Lithuania",
          "Slovenia",
          "Mali",
          "Syria",
          "Angola",
          "South Sudan",
          "Estonia",
          "Guinea-Bissau",
          "Benin",
          "Bahamas",
          "Jamaica",
          "Iceland",
          "Sierra Leone",
          "Yemen",
          "Jordan",
          "Malta",
          "New Zealand",
          "Trinidad and Tobago",
          "Uruguay",
          "Botswana",
          "Cyprus",
          "Georgia",
          "Togo",
          "Latvia",
          "Burkina Faso",
          "Liberia",
          "Guyana",
          "Niger",
          "Andorra",
          "Lesotho",
          "Vietnam",
          "Chad",
          "Belize",
          "Sao Tome and Principe",
          "Burma",
          "Diamond Princess",
          "San Marino",
          "Tanzania",
          "Taiwan*",
          "Papua New Guinea",
          "Burundi",
          "Comoros",
          "Mauritius",
          "Eritrea",
          "Mongolia",
          "Cambodia",
          "Bhutan",
          "Barbados",
          "Monaco",
          "Brunei",
          "Seychelles",
          "Liechtenstein",
          "Antigua and Barbuda",
          "Saint Vincent and the Grenadines",
          "Fiji",
          "Timor-Leste",
          "Saint Lucia",
          "Grenada",
          "Laos",
          "Dominica",
          "Saint Kitts and Nevis",
          "Holy See",
          "Western Sahara",
          "MS Zaandam"
         ],
         "marker": {
          "color": [
           5961094,
           3846153,
           3542733,
           982573,
           629961,
           622551,
           599884,
           591712,
           439286,
           408009,
           401239,
           371816,
           334916,
           313911,
           308925,
           304947,
           295372,
           267064,
           266853,
           242835,
           227446,
           213131,
           169195,
           129639,
           119751,
           118407,
           115354,
           113465,
           112906,
           105684,
           98497,
           93732,
           91337,
           89863,
           85833,
           85005,
           84599,
           84224,
           83958,
           73679,
           72128,
           71523,
           69328,
           67353,
           66239,
           60056,
           59645,
           57448,
           56717,
           53727,
           51391,
           49654,
           44946,
           44118,
           43781,
           43712,
           43626,
           41722,
           41067,
           39699,
           38143,
           37340,
           36404,
           36174,
           33794,
           31282,
           28720,
           26985,
           25670,
           25537,
           24094,
           21668,
           19699,
           19550,
           19142,
           17893,
           17204,
           16474,
           16275,
           16164,
           14791,
           14293,
           13456,
           13189,
           12958,
           12683,
           11902,
           10611,
           10007,
           9977,
           9861,
           9317,
           9279,
           9251,
           8516,
           8505,
           8174,
           8049,
           7578,
           7116,
           7012,
           6625,
           6406,
           5669,
           5528,
           5385,
           4941,
           4727,
           4700,
           4510,
           4494,
           3979,
           3954,
           3925,
           3843,
           3842,
           3778,
           3760,
           3572,
           3411,
           3310,
           2995,
           2895,
           2847,
           2839,
           2834,
           2757,
           2628,
           2551,
           2519,
           2363,
           2205,
           2145,
           2135,
           2113,
           2100,
           2019,
           1946,
           1893,
           1847,
           1729,
           1645,
           1570,
           1562,
           1483,
           1462,
           1390,
           1381,
           1352,
           1304,
           1184,
           1175,
           1124,
           1051,
           1040,
           1008,
           964,
           895,
           749,
           712,
           710,
           509,
           488,
           453,
           445,
           423,
           355,
           318,
           301,
           273,
           195,
           170,
           154,
           144,
           136,
           107,
           94,
           60,
           28,
           27,
           26,
           24,
           22,
           20,
           17,
           12,
           10,
           9
          ],
          "coloraxis": "coloraxis",
          "size": [
           5961094,
           3846153,
           3542733,
           982573,
           629961,
           622551,
           599884,
           591712,
           439286,
           408009,
           401239,
           371816,
           334916,
           313911,
           308925,
           304947,
           295372,
           267064,
           266853,
           242835,
           227446,
           213131,
           169195,
           129639,
           119751,
           118407,
           115354,
           113465,
           112906,
           105684,
           98497,
           93732,
           91337,
           89863,
           85833,
           85005,
           84599,
           84224,
           83958,
           73679,
           72128,
           71523,
           69328,
           67353,
           66239,
           60056,
           59645,
           57448,
           56717,
           53727,
           51391,
           49654,
           44946,
           44118,
           43781,
           43712,
           43626,
           41722,
           41067,
           39699,
           38143,
           37340,
           36404,
           36174,
           33794,
           31282,
           28720,
           26985,
           25670,
           25537,
           24094,
           21668,
           19699,
           19550,
           19142,
           17893,
           17204,
           16474,
           16275,
           16164,
           14791,
           14293,
           13456,
           13189,
           12958,
           12683,
           11902,
           10611,
           10007,
           9977,
           9861,
           9317,
           9279,
           9251,
           8516,
           8505,
           8174,
           8049,
           7578,
           7116,
           7012,
           6625,
           6406,
           5669,
           5528,
           5385,
           4941,
           4727,
           4700,
           4510,
           4494,
           3979,
           3954,
           3925,
           3843,
           3842,
           3778,
           3760,
           3572,
           3411,
           3310,
           2995,
           2895,
           2847,
           2839,
           2834,
           2757,
           2628,
           2551,
           2519,
           2363,
           2205,
           2145,
           2135,
           2113,
           2100,
           2019,
           1946,
           1893,
           1847,
           1729,
           1645,
           1570,
           1562,
           1483,
           1462,
           1390,
           1381,
           1352,
           1304,
           1184,
           1175,
           1124,
           1051,
           1040,
           1008,
           964,
           895,
           749,
           712,
           710,
           509,
           488,
           453,
           445,
           423,
           355,
           318,
           301,
           273,
           195,
           170,
           154,
           144,
           136,
           107,
           94,
           60,
           28,
           27,
           26,
           24,
           22,
           20,
           17,
           12,
           10,
           9
          ],
          "sizemode": "area",
          "sizeref": 2384.4376
         },
         "name": "",
         "showlegend": false,
         "text": [
          182761,
          120262,
          63498,
          16977,
          28471,
          13981,
          19063,
          63819,
          29011,
          11181,
          8353,
          21359,
          41585,
          3840,
          4206,
          30601,
          6284,
          6284,
          35473,
          9299,
          6891,
          3419,
          7261,
          9161,
          2540,
          196,
          4938,
          906,
          6537,
          1523,
          5376,
          1673,
          1983,
          4721,
          3539,
          650,
          9891,
          528,
          5821,
          2728,
          6252,
          671,
          379,
          1271,
          2032,
          1078,
          1842,
          1818,
          27,
          1011,
          189,
          770,
          375,
          270,
          1491,
          1057,
          872,
          2005,
          307,
          418,
          1402,
          207,
          990,
          529,
          572,
          710,
          1777,
          733,
          611,
          708,
          421,
          147,
          323,
          594,
          411,
          115,
          624,
          294,
          155,
          605,
          190,
          596,
          282,
          823,
          231,
          488,
          284,
          264,
          258,
          260,
          183,
          125,
          275,
          59,
          68,
          53,
          201,
          335,
          28,
          69,
          158,
          124,
          196,
          614,
          174,
          60,
          83,
          93,
          61,
          91,
          137,
          78,
          67,
          94,
          16,
          33,
          39,
          22,
          76,
          58,
          97,
          12,
          96,
          29,
          86,
          133,
          126,
          106,
          107,
          47,
          64,
          34,
          40,
          50,
          20,
          10,
          70,
          563,
          15,
          10,
          22,
          19,
          44,
          3,
          20,
          19,
          27,
          34,
          55,
          82,
          35,
          69,
          53,
          31,
          32,
          77,
          13,
          15,
          6,
          13,
          42,
          21,
          7,
          5,
          1,
          7,
          10,
          0,
          0,
          0,
          0,
          7,
          4,
          3,
          0,
          1,
          3,
          0,
          2,
          0,
          0,
          0,
          0,
          0,
          0,
          0,
          1,
          2
         ],
         "type": "scattergeo"
        }
       ],
       "layout": {
        "coloraxis": {
         "colorbar": {
          "title": {
           "text": "Confirmed"
          }
         },
         "colorscale": [
          [
           0,
           "#0d0887"
          ],
          [
           0.1111111111111111,
           "#46039f"
          ],
          [
           0.2222222222222222,
           "#7201a8"
          ],
          [
           0.3333333333333333,
           "#9c179e"
          ],
          [
           0.4444444444444444,
           "#bd3786"
          ],
          [
           0.5555555555555556,
           "#d8576b"
          ],
          [
           0.6666666666666666,
           "#ed7953"
          ],
          [
           0.7777777777777778,
           "#fb9f3a"
          ],
          [
           0.8888888888888888,
           "#fdca26"
          ],
          [
           1,
           "#f0f921"
          ]
         ]
        },
        "geo": {
         "center": {},
         "domain": {
          "x": [
           0,
           1
          ],
          "y": [
           0,
           1
          ]
         }
        },
        "legend": {
         "itemsizing": "constant",
         "tracegroupgap": 0
        },
        "margin": {
         "t": 60
        },
        "template": {
         "data": {
          "bar": [
           {
            "error_x": {
             "color": "#f2f5fa"
            },
            "error_y": {
             "color": "#f2f5fa"
            },
            "marker": {
             "line": {
              "color": "rgb(17,17,17)",
              "width": 0.5
             }
            },
            "type": "bar"
           }
          ],
          "barpolar": [
           {
            "marker": {
             "line": {
              "color": "rgb(17,17,17)",
              "width": 0.5
             }
            },
            "type": "barpolar"
           }
          ],
          "carpet": [
           {
            "aaxis": {
             "endlinecolor": "#A2B1C6",
             "gridcolor": "#506784",
             "linecolor": "#506784",
             "minorgridcolor": "#506784",
             "startlinecolor": "#A2B1C6"
            },
            "baxis": {
             "endlinecolor": "#A2B1C6",
             "gridcolor": "#506784",
             "linecolor": "#506784",
             "minorgridcolor": "#506784",
             "startlinecolor": "#A2B1C6"
            },
            "type": "carpet"
           }
          ],
          "choropleth": [
           {
            "colorbar": {
             "outlinewidth": 0,
             "ticks": ""
            },
            "type": "choropleth"
           }
          ],
          "contour": [
           {
            "colorbar": {
             "outlinewidth": 0,
             "ticks": ""
            },
            "colorscale": [
             [
              0,
              "#0d0887"
             ],
             [
              0.1111111111111111,
              "#46039f"
             ],
             [
              0.2222222222222222,
              "#7201a8"
             ],
             [
              0.3333333333333333,
              "#9c179e"
             ],
             [
              0.4444444444444444,
              "#bd3786"
             ],
             [
              0.5555555555555556,
              "#d8576b"
             ],
             [
              0.6666666666666666,
              "#ed7953"
             ],
             [
              0.7777777777777778,
              "#fb9f3a"
             ],
             [
              0.8888888888888888,
              "#fdca26"
             ],
             [
              1,
              "#f0f921"
             ]
            ],
            "type": "contour"
           }
          ],
          "contourcarpet": [
           {
            "colorbar": {
             "outlinewidth": 0,
             "ticks": ""
            },
            "type": "contourcarpet"
           }
          ],
          "heatmap": [
           {
            "colorbar": {
             "outlinewidth": 0,
             "ticks": ""
            },
            "colorscale": [
             [
              0,
              "#0d0887"
             ],
             [
              0.1111111111111111,
              "#46039f"
             ],
             [
              0.2222222222222222,
              "#7201a8"
             ],
             [
              0.3333333333333333,
              "#9c179e"
             ],
             [
              0.4444444444444444,
              "#bd3786"
             ],
             [
              0.5555555555555556,
              "#d8576b"
             ],
             [
              0.6666666666666666,
              "#ed7953"
             ],
             [
              0.7777777777777778,
              "#fb9f3a"
             ],
             [
              0.8888888888888888,
              "#fdca26"
             ],
             [
              1,
              "#f0f921"
             ]
            ],
            "type": "heatmap"
           }
          ],
          "heatmapgl": [
           {
            "colorbar": {
             "outlinewidth": 0,
             "ticks": ""
            },
            "colorscale": [
             [
              0,
              "#0d0887"
             ],
             [
              0.1111111111111111,
              "#46039f"
             ],
             [
              0.2222222222222222,
              "#7201a8"
             ],
             [
              0.3333333333333333,
              "#9c179e"
             ],
             [
              0.4444444444444444,
              "#bd3786"
             ],
             [
              0.5555555555555556,
              "#d8576b"
             ],
             [
              0.6666666666666666,
              "#ed7953"
             ],
             [
              0.7777777777777778,
              "#fb9f3a"
             ],
             [
              0.8888888888888888,
              "#fdca26"
             ],
             [
              1,
              "#f0f921"
             ]
            ],
            "type": "heatmapgl"
           }
          ],
          "histogram": [
           {
            "marker": {
             "colorbar": {
              "outlinewidth": 0,
              "ticks": ""
             }
            },
            "type": "histogram"
           }
          ],
          "histogram2d": [
           {
            "colorbar": {
             "outlinewidth": 0,
             "ticks": ""
            },
            "colorscale": [
             [
              0,
              "#0d0887"
             ],
             [
              0.1111111111111111,
              "#46039f"
             ],
             [
              0.2222222222222222,
              "#7201a8"
             ],
             [
              0.3333333333333333,
              "#9c179e"
             ],
             [
              0.4444444444444444,
              "#bd3786"
             ],
             [
              0.5555555555555556,
              "#d8576b"
             ],
             [
              0.6666666666666666,
              "#ed7953"
             ],
             [
              0.7777777777777778,
              "#fb9f3a"
             ],
             [
              0.8888888888888888,
              "#fdca26"
             ],
             [
              1,
              "#f0f921"
             ]
            ],
            "type": "histogram2d"
           }
          ],
          "histogram2dcontour": [
           {
            "colorbar": {
             "outlinewidth": 0,
             "ticks": ""
            },
            "colorscale": [
             [
              0,
              "#0d0887"
             ],
             [
              0.1111111111111111,
              "#46039f"
             ],
             [
              0.2222222222222222,
              "#7201a8"
             ],
             [
              0.3333333333333333,
              "#9c179e"
             ],
             [
              0.4444444444444444,
              "#bd3786"
             ],
             [
              0.5555555555555556,
              "#d8576b"
             ],
             [
              0.6666666666666666,
              "#ed7953"
             ],
             [
              0.7777777777777778,
              "#fb9f3a"
             ],
             [
              0.8888888888888888,
              "#fdca26"
             ],
             [
              1,
              "#f0f921"
             ]
            ],
            "type": "histogram2dcontour"
           }
          ],
          "mesh3d": [
           {
            "colorbar": {
             "outlinewidth": 0,
             "ticks": ""
            },
            "type": "mesh3d"
           }
          ],
          "parcoords": [
           {
            "line": {
             "colorbar": {
              "outlinewidth": 0,
              "ticks": ""
             }
            },
            "type": "parcoords"
           }
          ],
          "pie": [
           {
            "automargin": true,
            "type": "pie"
           }
          ],
          "scatter": [
           {
            "marker": {
             "line": {
              "color": "#283442"
             }
            },
            "type": "scatter"
           }
          ],
          "scatter3d": [
           {
            "line": {
             "colorbar": {
              "outlinewidth": 0,
              "ticks": ""
             }
            },
            "marker": {
             "colorbar": {
              "outlinewidth": 0,
              "ticks": ""
             }
            },
            "type": "scatter3d"
           }
          ],
          "scattercarpet": [
           {
            "marker": {
             "colorbar": {
              "outlinewidth": 0,
              "ticks": ""
             }
            },
            "type": "scattercarpet"
           }
          ],
          "scattergeo": [
           {
            "marker": {
             "colorbar": {
              "outlinewidth": 0,
              "ticks": ""
             }
            },
            "type": "scattergeo"
           }
          ],
          "scattergl": [
           {
            "marker": {
             "line": {
              "color": "#283442"
             }
            },
            "type": "scattergl"
           }
          ],
          "scattermapbox": [
           {
            "marker": {
             "colorbar": {
              "outlinewidth": 0,
              "ticks": ""
             }
            },
            "type": "scattermapbox"
           }
          ],
          "scatterpolar": [
           {
            "marker": {
             "colorbar": {
              "outlinewidth": 0,
              "ticks": ""
             }
            },
            "type": "scatterpolar"
           }
          ],
          "scatterpolargl": [
           {
            "marker": {
             "colorbar": {
              "outlinewidth": 0,
              "ticks": ""
             }
            },
            "type": "scatterpolargl"
           }
          ],
          "scatterternary": [
           {
            "marker": {
             "colorbar": {
              "outlinewidth": 0,
              "ticks": ""
             }
            },
            "type": "scatterternary"
           }
          ],
          "surface": [
           {
            "colorbar": {
             "outlinewidth": 0,
             "ticks": ""
            },
            "colorscale": [
             [
              0,
              "#0d0887"
             ],
             [
              0.1111111111111111,
              "#46039f"
             ],
             [
              0.2222222222222222,
              "#7201a8"
             ],
             [
              0.3333333333333333,
              "#9c179e"
             ],
             [
              0.4444444444444444,
              "#bd3786"
             ],
             [
              0.5555555555555556,
              "#d8576b"
             ],
             [
              0.6666666666666666,
              "#ed7953"
             ],
             [
              0.7777777777777778,
              "#fb9f3a"
             ],
             [
              0.8888888888888888,
              "#fdca26"
             ],
             [
              1,
              "#f0f921"
             ]
            ],
            "type": "surface"
           }
          ],
          "table": [
           {
            "cells": {
             "fill": {
              "color": "#506784"
             },
             "line": {
              "color": "rgb(17,17,17)"
             }
            },
            "header": {
             "fill": {
              "color": "#2a3f5f"
             },
             "line": {
              "color": "rgb(17,17,17)"
             }
            },
            "type": "table"
           }
          ]
         },
         "layout": {
          "annotationdefaults": {
           "arrowcolor": "#f2f5fa",
           "arrowhead": 0,
           "arrowwidth": 1
          },
          "coloraxis": {
           "colorbar": {
            "outlinewidth": 0,
            "ticks": ""
           }
          },
          "colorscale": {
           "diverging": [
            [
             0,
             "#8e0152"
            ],
            [
             0.1,
             "#c51b7d"
            ],
            [
             0.2,
             "#de77ae"
            ],
            [
             0.3,
             "#f1b6da"
            ],
            [
             0.4,
             "#fde0ef"
            ],
            [
             0.5,
             "#f7f7f7"
            ],
            [
             0.6,
             "#e6f5d0"
            ],
            [
             0.7,
             "#b8e186"
            ],
            [
             0.8,
             "#7fbc41"
            ],
            [
             0.9,
             "#4d9221"
            ],
            [
             1,
             "#276419"
            ]
           ],
           "sequential": [
            [
             0,
             "#0d0887"
            ],
            [
             0.1111111111111111,
             "#46039f"
            ],
            [
             0.2222222222222222,
             "#7201a8"
            ],
            [
             0.3333333333333333,
             "#9c179e"
            ],
            [
             0.4444444444444444,
             "#bd3786"
            ],
            [
             0.5555555555555556,
             "#d8576b"
            ],
            [
             0.6666666666666666,
             "#ed7953"
            ],
            [
             0.7777777777777778,
             "#fb9f3a"
            ],
            [
             0.8888888888888888,
             "#fdca26"
            ],
            [
             1,
             "#f0f921"
            ]
           ],
           "sequentialminus": [
            [
             0,
             "#0d0887"
            ],
            [
             0.1111111111111111,
             "#46039f"
            ],
            [
             0.2222222222222222,
             "#7201a8"
            ],
            [
             0.3333333333333333,
             "#9c179e"
            ],
            [
             0.4444444444444444,
             "#bd3786"
            ],
            [
             0.5555555555555556,
             "#d8576b"
            ],
            [
             0.6666666666666666,
             "#ed7953"
            ],
            [
             0.7777777777777778,
             "#fb9f3a"
            ],
            [
             0.8888888888888888,
             "#fdca26"
            ],
            [
             1,
             "#f0f921"
            ]
           ]
          },
          "colorway": [
           "#636efa",
           "#EF553B",
           "#00cc96",
           "#ab63fa",
           "#FFA15A",
           "#19d3f3",
           "#FF6692",
           "#B6E880",
           "#FF97FF",
           "#FECB52"
          ],
          "font": {
           "color": "#f2f5fa"
          },
          "geo": {
           "bgcolor": "rgb(17,17,17)",
           "lakecolor": "rgb(17,17,17)",
           "landcolor": "rgb(17,17,17)",
           "showlakes": true,
           "showland": true,
           "subunitcolor": "#506784"
          },
          "hoverlabel": {
           "align": "left"
          },
          "hovermode": "closest",
          "mapbox": {
           "style": "dark"
          },
          "paper_bgcolor": "rgb(17,17,17)",
          "plot_bgcolor": "rgb(17,17,17)",
          "polar": {
           "angularaxis": {
            "gridcolor": "#506784",
            "linecolor": "#506784",
            "ticks": ""
           },
           "bgcolor": "rgb(17,17,17)",
           "radialaxis": {
            "gridcolor": "#506784",
            "linecolor": "#506784",
            "ticks": ""
           }
          },
          "scene": {
           "xaxis": {
            "backgroundcolor": "rgb(17,17,17)",
            "gridcolor": "#506784",
            "gridwidth": 2,
            "linecolor": "#506784",
            "showbackground": true,
            "ticks": "",
            "zerolinecolor": "#C8D4E3"
           },
           "yaxis": {
            "backgroundcolor": "rgb(17,17,17)",
            "gridcolor": "#506784",
            "gridwidth": 2,
            "linecolor": "#506784",
            "showbackground": true,
            "ticks": "",
            "zerolinecolor": "#C8D4E3"
           },
           "zaxis": {
            "backgroundcolor": "rgb(17,17,17)",
            "gridcolor": "#506784",
            "gridwidth": 2,
            "linecolor": "#506784",
            "showbackground": true,
            "ticks": "",
            "zerolinecolor": "#C8D4E3"
           }
          },
          "shapedefaults": {
           "line": {
            "color": "#f2f5fa"
           }
          },
          "sliderdefaults": {
           "bgcolor": "#C8D4E3",
           "bordercolor": "rgb(17,17,17)",
           "borderwidth": 1,
           "tickwidth": 0
          },
          "ternary": {
           "aaxis": {
            "gridcolor": "#506784",
            "linecolor": "#506784",
            "ticks": ""
           },
           "baxis": {
            "gridcolor": "#506784",
            "linecolor": "#506784",
            "ticks": ""
           },
           "bgcolor": "rgb(17,17,17)",
           "caxis": {
            "gridcolor": "#506784",
            "linecolor": "#506784",
            "ticks": ""
           }
          },
          "title": {
           "x": 0.05
          },
          "updatemenudefaults": {
           "bgcolor": "#506784",
           "borderwidth": 0
          },
          "xaxis": {
           "automargin": true,
           "gridcolor": "#283442",
           "linecolor": "#506784",
           "ticks": "",
           "title": {
            "standoff": 15
           },
           "zerolinecolor": "#283442",
           "zerolinewidth": 2
          },
          "yaxis": {
           "automargin": true,
           "gridcolor": "#283442",
           "linecolor": "#506784",
           "ticks": "",
           "title": {
            "standoff": 15
           },
           "zerolinecolor": "#283442",
           "zerolinewidth": 2
          }
         }
        }
       }
      },
      "text/html": [
       "<div>\n",
       "        \n",
       "        \n",
       "            <div id=\"779cb625-d8a0-4323-be2a-3728bbb9bdfa\" class=\"plotly-graph-div\" style=\"height:525px; width:100%;\"></div>\n",
       "            <script type=\"text/javascript\">\n",
       "                require([\"plotly\"], function(Plotly) {\n",
       "                    window.PLOTLYENV=window.PLOTLYENV || {};\n",
       "                    \n",
       "                if (document.getElementById(\"779cb625-d8a0-4323-be2a-3728bbb9bdfa\")) {\n",
       "                    Plotly.newPlot(\n",
       "                        '779cb625-d8a0-4323-be2a-3728bbb9bdfa',\n",
       "                        [{\"customdata\": [[5961094, 182761, 2140614, \"US\"], [3846153, 120262, 3202185, \"Brazil\"], [3542733, 63498, 2713933, \"India\"], [982573, 16977, 802365, \"Russia\"], [629961, 28471, 438017, \"Peru\"], [622551, 13981, 536694, \"South Africa\"], [599884, 19063, 440562, \"Colombia\"], [591712, 63819, 484283, \"Mexico\"], [439286, 29011, 150376, \"Spain\"], [408009, 11181, 381183, \"Chile\"], [401239, 8353, 287220, \"Argentina\"], [371816, 21359, 319847, \"Iran\"], [334916, 41585, 1622, \"United Kingdom\"], [313911, 3840, 288441, \"Saudi Arabia\"], [308925, 4206, 198863, \"Bangladesh\"], [304947, 30601, 86495, \"France\"], [295372, 6284, 280340, \"Pakistan\"], [267064, 6284, 242812, \"Turkey\"], [266853, 35473, 208224, \"Italy\"], [242835, 9299, 214790, \"Germany\"], [227446, 6891, 169020, \"Iraq\"], [213131, 3419, 135101, \"Philippines\"], [169195, 7261, 122802, \"Indonesia\"], [129639, 9161, 115294, \"Canada\"], [119751, 2540, 58156, \"Ukraine\"], [118407, 196, 115251, \"Qatar\"], [115354, 4938, 56749, \"Bolivia\"], [113465, 906, 92104, \"Israel\"], [112906, 6537, 95429, \"Ecuador\"], [105684, 1523, 96135, \"Kazakhstan\"], [98497, 5376, 71302, \"Egypt\"], [93732, 1673, 66320, \"Dominican Republic\"], [91337, 1983, 65119, \"Panama\"], [89863, 4721, 84484, \"China\"], [85833, 3539, 37388, \"Romania\"], [85005, 650, 79608, \"Oman\"], [84599, 9891, 18403, \"Belgium\"], [84224, 528, 75993, \"Kuwait\"], [83958, 5821, 0, \"Sweden\"], [73679, 2728, 61163, \"Guatemala\"], [72128, 6252, 986, \"Netherlands\"], [71523, 671, 70207, \"Belarus\"], [69328, 379, 60202, \"United Arab Emirates\"], [67353, 1271, 54883, \"Japan\"], [66239, 2032, 45536, \"Poland\"], [60056, 1078, 44618, \"Morocco\"], [59645, 1842, 10156, \"Honduras\"], [57448, 1818, 41766, \"Portugal\"], [56717, 27, 55447, \"Singapore\"], [53727, 1011, 41314, \"Nigeria\"], [51391, 189, 48275, \"Bahrain\"], [49654, 770, 18116, \"Ethiopia\"], [44946, 375, 36175, \"Venezuela\"], [44118, 270, 42581, \"Ghana\"], [43781, 1491, 30717, \"Algeria\"], [43712, 1057, 37973, \"Kyrgyzstan\"], [43626, 872, 37563, \"Armenia\"], [41722, 2005, 35200, \"Switzerland\"], [41067, 307, 38250, \"Uzbekistan\"], [39699, 418, 15737, \"Costa Rica\"], [38143, 1402, 29063, \"Afghanistan\"], [37340, 207, 20555, \"Nepal\"], [36404, 990, 25139, \"Moldova\"], [36174, 529, 33576, \"Azerbaijan\"], [33794, 572, 19590, \"Kenya\"], [31282, 710, 0, \"Serbia\"], [28720, 1777, 23364, \"Ireland\"], [26985, 733, 22866, \"Austria\"], [25670, 611, 20858, \"Australia\"], [25537, 708, 13799, \"El Salvador\"], [24094, 421, 17541, \"Czechia\"], [21668, 147, 14631, \"West Bank and Gaza\"], [19699, 323, 14903, \"Korea, South\"], [19550, 594, 12858, \"Bosnia and Herzegovina\"], [19142, 411, 17651, \"Cameroon\"], [17893, 115, 16440, \"Cote d'Ivoire\"], [17204, 624, 15365, \"Denmark\"], [16474, 294, 8854, \"Paraguay\"], [16275, 155, 4484, \"Lebanon\"], [16164, 605, 11253, \"Bulgaria\"], [14791, 190, 13753, \"Madagascar\"], [14293, 596, 11014, \"North Macedonia\"], [13456, 282, 9233, \"Senegal\"], [13189, 823, 6612, \"Sudan\"], [12958, 231, 1333, \"Libya\"], [12683, 488, 8788, \"Kosovo\"], [11902, 284, 11092, \"Zambia\"], [10611, 264, 9348, \"Norway\"], [10007, 258, 9068, \"Congo (Kinshasa)\"], [9977, 260, 1347, \"Greece\"], [9861, 183, 7024, \"Croatia\"], [9317, 125, 9038, \"Malaysia\"], [9279, 275, 5020, \"Albania\"], [9251, 59, 8282, \"Guinea\"], [8516, 68, 7309, \"Tajikistan\"], [8505, 53, 7187, \"Gabon\"], [8174, 201, 5743, \"Haiti\"], [8049, 335, 7200, \"Finland\"], [7578, 28, 4925, \"Maldives\"], [7116, 69, 2817, \"Namibia\"], [7012, 158, 6407, \"Mauritania\"], [6625, 124, 7140, \"Luxembourg\"], [6406, 196, 5056, \"Zimbabwe\"], [5669, 614, 3759, \"Hungary\"], [5528, 174, 3143, \"Malawi\"], [5385, 60, 5314, \"Djibouti\"], [4941, 83, 3884, \"Equatorial Guinea\"], [4727, 93, 3839, \"Montenegro\"], [4700, 61, 1784, \"Central African Republic\"], [4510, 91, 3359, \"Eswatini\"], [4494, 137, 2913, \"Nicaragua\"], [3979, 78, 1742, \"Congo (Brazzaville)\"], [3954, 67, 2991, \"Suriname\"], [3925, 94, 3273, \"Cuba\"], [3843, 16, 1904, \"Rwanda\"], [3842, 33, 2254, \"Slovakia\"], [3778, 39, 2855, \"Cabo Verde\"], [3760, 22, 2078, \"Mozambique\"], [3572, 76, 1536, \"Tunisia\"], [3411, 58, 3242, \"Thailand\"], [3310, 97, 2481, \"Somalia\"], [2995, 12, 2849, \"Sri Lanka\"], [2895, 96, 751, \"Gambia\"], [2847, 29, 1288, \"Uganda\"], [2839, 86, 1833, \"Lithuania\"], [2834, 133, 2268, \"Slovenia\"], [2757, 126, 2121, \"Mali\"], [2628, 106, 599, \"Syria\"], [2551, 107, 1041, \"Angola\"], [2519, 47, 1290, \"South Sudan\"], [2363, 64, 2086, \"Estonia\"], [2205, 34, 1127, \"Guinea-Bissau\"], [2145, 40, 1738, \"Benin\"], [2135, 50, 782, \"Bahamas\"], [2113, 20, 890, \"Jamaica\"], [2100, 10, 1979, \"Iceland\"], [2019, 70, 1591, \"Sierra Leone\"], [1946, 563, 1113, \"Yemen\"], [1893, 15, 1447, \"Jordan\"], [1847, 10, 1244, \"Malta\"], [1729, 22, 1570, \"New Zealand\"], [1645, 19, 894, \"Trinidad and Tobago\"], [1570, 44, 1364, \"Uruguay\"], [1562, 3, 199, \"Botswana\"], [1483, 20, 935, \"Cyprus\"], [1462, 19, 1196, \"Georgia\"], [1390, 27, 990, \"Togo\"], [1381, 34, 1163, \"Latvia\"], [1352, 55, 1058, \"Burkina Faso\"], [1304, 82, 872, \"Liberia\"], [1184, 35, 636, \"Guyana\"], [1175, 69, 1085, \"Niger\"], [1124, 53, 902, \"Andorra\"], [1051, 31, 526, \"Lesotho\"], [1040, 32, 677, \"Vietnam\"], [1008, 77, 878, \"Chad\"], [964, 13, 115, \"Belize\"], [895, 15, 848, \"Sao Tome and Principe\"], [749, 6, 351, \"Burma\"], [712, 13, 651, \"Diamond Princess\"], [710, 42, 658, \"San Marino\"], [509, 21, 183, \"Tanzania\"], [488, 7, 462, \"Taiwan*\"], [453, 5, 232, \"Papua New Guinea\"], [445, 1, 357, \"Burundi\"], [423, 7, 399, \"Comoros\"], [355, 10, 335, \"Mauritius\"], [318, 0, 284, \"Eritrea\"], [301, 0, 295, \"Mongolia\"], [273, 0, 265, \"Cambodia\"], [195, 0, 135, \"Bhutan\"], [170, 7, 141, \"Barbados\"], [154, 4, 116, \"Monaco\"], [144, 3, 139, \"Brunei\"], [136, 0, 127, \"Seychelles\"], [107, 1, 97, \"Liechtenstein\"], [94, 3, 89, \"Antigua and Barbuda\"], [60, 0, 57, \"Saint Vincent and the Grenadines\"], [28, 2, 23, \"Fiji\"], [27, 0, 25, \"Timor-Leste\"], [26, 0, 25, \"Saint Lucia\"], [24, 0, 24, \"Grenada\"], [22, 0, 21, \"Laos\"], [20, 0, 18, \"Dominica\"], [17, 0, 17, \"Saint Kitts and Nevis\"], [12, 0, 12, \"Holy See\"], [10, 1, 8, \"Western Sahara\"], [9, 2, 0, \"MS Zaandam\"]], \"geo\": \"geo\", \"hovertemplate\": \"<b>%{hovertext}</b><br><br>Confirmed=%{marker.color:,2f}<br>Deaths=%{customdata[1]:,2f}<br>Recovered=%{customdata[2]:,2f}<extra></extra>\", \"hovertext\": [\"US\", \"Brazil\", \"India\", \"Russia\", \"Peru\", \"South Africa\", \"Colombia\", \"Mexico\", \"Spain\", \"Chile\", \"Argentina\", \"Iran\", \"United Kingdom\", \"Saudi Arabia\", \"Bangladesh\", \"France\", \"Pakistan\", \"Turkey\", \"Italy\", \"Germany\", \"Iraq\", \"Philippines\", \"Indonesia\", \"Canada\", \"Ukraine\", \"Qatar\", \"Bolivia\", \"Israel\", \"Ecuador\", \"Kazakhstan\", \"Egypt\", \"Dominican Republic\", \"Panama\", \"China\", \"Romania\", \"Oman\", \"Belgium\", \"Kuwait\", \"Sweden\", \"Guatemala\", \"Netherlands\", \"Belarus\", \"United Arab Emirates\", \"Japan\", \"Poland\", \"Morocco\", \"Honduras\", \"Portugal\", \"Singapore\", \"Nigeria\", \"Bahrain\", \"Ethiopia\", \"Venezuela\", \"Ghana\", \"Algeria\", \"Kyrgyzstan\", \"Armenia\", \"Switzerland\", \"Uzbekistan\", \"Costa Rica\", \"Afghanistan\", \"Nepal\", \"Moldova\", \"Azerbaijan\", \"Kenya\", \"Serbia\", \"Ireland\", \"Austria\", \"Australia\", \"El Salvador\", \"Czechia\", \"West Bank and Gaza\", \"Korea, South\", \"Bosnia and Herzegovina\", \"Cameroon\", \"Cote d'Ivoire\", \"Denmark\", \"Paraguay\", \"Lebanon\", \"Bulgaria\", \"Madagascar\", \"North Macedonia\", \"Senegal\", \"Sudan\", \"Libya\", \"Kosovo\", \"Zambia\", \"Norway\", \"Congo (Kinshasa)\", \"Greece\", \"Croatia\", \"Malaysia\", \"Albania\", \"Guinea\", \"Tajikistan\", \"Gabon\", \"Haiti\", \"Finland\", \"Maldives\", \"Namibia\", \"Mauritania\", \"Luxembourg\", \"Zimbabwe\", \"Hungary\", \"Malawi\", \"Djibouti\", \"Equatorial Guinea\", \"Montenegro\", \"Central African Republic\", \"Eswatini\", \"Nicaragua\", \"Congo (Brazzaville)\", \"Suriname\", \"Cuba\", \"Rwanda\", \"Slovakia\", \"Cabo Verde\", \"Mozambique\", \"Tunisia\", \"Thailand\", \"Somalia\", \"Sri Lanka\", \"Gambia\", \"Uganda\", \"Lithuania\", \"Slovenia\", \"Mali\", \"Syria\", \"Angola\", \"South Sudan\", \"Estonia\", \"Guinea-Bissau\", \"Benin\", \"Bahamas\", \"Jamaica\", \"Iceland\", \"Sierra Leone\", \"Yemen\", \"Jordan\", \"Malta\", \"New Zealand\", \"Trinidad and Tobago\", \"Uruguay\", \"Botswana\", \"Cyprus\", \"Georgia\", \"Togo\", \"Latvia\", \"Burkina Faso\", \"Liberia\", \"Guyana\", \"Niger\", \"Andorra\", \"Lesotho\", \"Vietnam\", \"Chad\", \"Belize\", \"Sao Tome and Principe\", \"Burma\", \"Diamond Princess\", \"San Marino\", \"Tanzania\", \"Taiwan*\", \"Papua New Guinea\", \"Burundi\", \"Comoros\", \"Mauritius\", \"Eritrea\", \"Mongolia\", \"Cambodia\", \"Bhutan\", \"Barbados\", \"Monaco\", \"Brunei\", \"Seychelles\", \"Liechtenstein\", \"Antigua and Barbuda\", \"Saint Vincent and the Grenadines\", \"Fiji\", \"Timor-Leste\", \"Saint Lucia\", \"Grenada\", \"Laos\", \"Dominica\", \"Saint Kitts and Nevis\", \"Holy See\", \"Western Sahara\", \"MS Zaandam\"], \"legendgroup\": \"\", \"locationmode\": \"country names\", \"locations\": [\"US\", \"Brazil\", \"India\", \"Russia\", \"Peru\", \"South Africa\", \"Colombia\", \"Mexico\", \"Spain\", \"Chile\", \"Argentina\", \"Iran\", \"United Kingdom\", \"Saudi Arabia\", \"Bangladesh\", \"France\", \"Pakistan\", \"Turkey\", \"Italy\", \"Germany\", \"Iraq\", \"Philippines\", \"Indonesia\", \"Canada\", \"Ukraine\", \"Qatar\", \"Bolivia\", \"Israel\", \"Ecuador\", \"Kazakhstan\", \"Egypt\", \"Dominican Republic\", \"Panama\", \"China\", \"Romania\", \"Oman\", \"Belgium\", \"Kuwait\", \"Sweden\", \"Guatemala\", \"Netherlands\", \"Belarus\", \"United Arab Emirates\", \"Japan\", \"Poland\", \"Morocco\", \"Honduras\", \"Portugal\", \"Singapore\", \"Nigeria\", \"Bahrain\", \"Ethiopia\", \"Venezuela\", \"Ghana\", \"Algeria\", \"Kyrgyzstan\", \"Armenia\", \"Switzerland\", \"Uzbekistan\", \"Costa Rica\", \"Afghanistan\", \"Nepal\", \"Moldova\", \"Azerbaijan\", \"Kenya\", \"Serbia\", \"Ireland\", \"Austria\", \"Australia\", \"El Salvador\", \"Czechia\", \"West Bank and Gaza\", \"Korea, South\", \"Bosnia and Herzegovina\", \"Cameroon\", \"Cote d'Ivoire\", \"Denmark\", \"Paraguay\", \"Lebanon\", \"Bulgaria\", \"Madagascar\", \"North Macedonia\", \"Senegal\", \"Sudan\", \"Libya\", \"Kosovo\", \"Zambia\", \"Norway\", \"Congo (Kinshasa)\", \"Greece\", \"Croatia\", \"Malaysia\", \"Albania\", \"Guinea\", \"Tajikistan\", \"Gabon\", \"Haiti\", \"Finland\", \"Maldives\", \"Namibia\", \"Mauritania\", \"Luxembourg\", \"Zimbabwe\", \"Hungary\", \"Malawi\", \"Djibouti\", \"Equatorial Guinea\", \"Montenegro\", \"Central African Republic\", \"Eswatini\", \"Nicaragua\", \"Congo (Brazzaville)\", \"Suriname\", \"Cuba\", \"Rwanda\", \"Slovakia\", \"Cabo Verde\", \"Mozambique\", \"Tunisia\", \"Thailand\", \"Somalia\", \"Sri Lanka\", \"Gambia\", \"Uganda\", \"Lithuania\", \"Slovenia\", \"Mali\", \"Syria\", \"Angola\", \"South Sudan\", \"Estonia\", \"Guinea-Bissau\", \"Benin\", \"Bahamas\", \"Jamaica\", \"Iceland\", \"Sierra Leone\", \"Yemen\", \"Jordan\", \"Malta\", \"New Zealand\", \"Trinidad and Tobago\", \"Uruguay\", \"Botswana\", \"Cyprus\", \"Georgia\", \"Togo\", \"Latvia\", \"Burkina Faso\", \"Liberia\", \"Guyana\", \"Niger\", \"Andorra\", \"Lesotho\", \"Vietnam\", \"Chad\", \"Belize\", \"Sao Tome and Principe\", \"Burma\", \"Diamond Princess\", \"San Marino\", \"Tanzania\", \"Taiwan*\", \"Papua New Guinea\", \"Burundi\", \"Comoros\", \"Mauritius\", \"Eritrea\", \"Mongolia\", \"Cambodia\", \"Bhutan\", \"Barbados\", \"Monaco\", \"Brunei\", \"Seychelles\", \"Liechtenstein\", \"Antigua and Barbuda\", \"Saint Vincent and the Grenadines\", \"Fiji\", \"Timor-Leste\", \"Saint Lucia\", \"Grenada\", \"Laos\", \"Dominica\", \"Saint Kitts and Nevis\", \"Holy See\", \"Western Sahara\", \"MS Zaandam\"], \"marker\": {\"color\": [5961094, 3846153, 3542733, 982573, 629961, 622551, 599884, 591712, 439286, 408009, 401239, 371816, 334916, 313911, 308925, 304947, 295372, 267064, 266853, 242835, 227446, 213131, 169195, 129639, 119751, 118407, 115354, 113465, 112906, 105684, 98497, 93732, 91337, 89863, 85833, 85005, 84599, 84224, 83958, 73679, 72128, 71523, 69328, 67353, 66239, 60056, 59645, 57448, 56717, 53727, 51391, 49654, 44946, 44118, 43781, 43712, 43626, 41722, 41067, 39699, 38143, 37340, 36404, 36174, 33794, 31282, 28720, 26985, 25670, 25537, 24094, 21668, 19699, 19550, 19142, 17893, 17204, 16474, 16275, 16164, 14791, 14293, 13456, 13189, 12958, 12683, 11902, 10611, 10007, 9977, 9861, 9317, 9279, 9251, 8516, 8505, 8174, 8049, 7578, 7116, 7012, 6625, 6406, 5669, 5528, 5385, 4941, 4727, 4700, 4510, 4494, 3979, 3954, 3925, 3843, 3842, 3778, 3760, 3572, 3411, 3310, 2995, 2895, 2847, 2839, 2834, 2757, 2628, 2551, 2519, 2363, 2205, 2145, 2135, 2113, 2100, 2019, 1946, 1893, 1847, 1729, 1645, 1570, 1562, 1483, 1462, 1390, 1381, 1352, 1304, 1184, 1175, 1124, 1051, 1040, 1008, 964, 895, 749, 712, 710, 509, 488, 453, 445, 423, 355, 318, 301, 273, 195, 170, 154, 144, 136, 107, 94, 60, 28, 27, 26, 24, 22, 20, 17, 12, 10, 9], \"coloraxis\": \"coloraxis\", \"size\": [5961094, 3846153, 3542733, 982573, 629961, 622551, 599884, 591712, 439286, 408009, 401239, 371816, 334916, 313911, 308925, 304947, 295372, 267064, 266853, 242835, 227446, 213131, 169195, 129639, 119751, 118407, 115354, 113465, 112906, 105684, 98497, 93732, 91337, 89863, 85833, 85005, 84599, 84224, 83958, 73679, 72128, 71523, 69328, 67353, 66239, 60056, 59645, 57448, 56717, 53727, 51391, 49654, 44946, 44118, 43781, 43712, 43626, 41722, 41067, 39699, 38143, 37340, 36404, 36174, 33794, 31282, 28720, 26985, 25670, 25537, 24094, 21668, 19699, 19550, 19142, 17893, 17204, 16474, 16275, 16164, 14791, 14293, 13456, 13189, 12958, 12683, 11902, 10611, 10007, 9977, 9861, 9317, 9279, 9251, 8516, 8505, 8174, 8049, 7578, 7116, 7012, 6625, 6406, 5669, 5528, 5385, 4941, 4727, 4700, 4510, 4494, 3979, 3954, 3925, 3843, 3842, 3778, 3760, 3572, 3411, 3310, 2995, 2895, 2847, 2839, 2834, 2757, 2628, 2551, 2519, 2363, 2205, 2145, 2135, 2113, 2100, 2019, 1946, 1893, 1847, 1729, 1645, 1570, 1562, 1483, 1462, 1390, 1381, 1352, 1304, 1184, 1175, 1124, 1051, 1040, 1008, 964, 895, 749, 712, 710, 509, 488, 453, 445, 423, 355, 318, 301, 273, 195, 170, 154, 144, 136, 107, 94, 60, 28, 27, 26, 24, 22, 20, 17, 12, 10, 9], \"sizemode\": \"area\", \"sizeref\": 2384.4376}, \"name\": \"\", \"showlegend\": false, \"text\": [182761.0, 120262.0, 63498.0, 16977.0, 28471.0, 13981.0, 19063.0, 63819.0, 29011.0, 11181.0, 8353.0, 21359.0, 41585.0, 3840.0, 4206.0, 30601.0, 6284.0, 6284.0, 35473.0, 9299.0, 6891.0, 3419.0, 7261.0, 9161.0, 2540.0, 196.0, 4938.0, 906.0, 6537.0, 1523.0, 5376.0, 1673.0, 1983.0, 4721.0, 3539.0, 650.0, 9891.0, 528.0, 5821.0, 2728.0, 6252.0, 671.0, 379.0, 1271.0, 2032.0, 1078.0, 1842.0, 1818.0, 27.0, 1011.0, 189.0, 770.0, 375.0, 270.0, 1491.0, 1057.0, 872.0, 2005.0, 307.0, 418.0, 1402.0, 207.0, 990.0, 529.0, 572.0, 710.0, 1777.0, 733.0, 611.0, 708.0, 421.0, 147.0, 323.0, 594.0, 411.0, 115.0, 624.0, 294.0, 155.0, 605.0, 190.0, 596.0, 282.0, 823.0, 231.0, 488.0, 284.0, 264.0, 258.0, 260.0, 183.0, 125.0, 275.0, 59.0, 68.0, 53.0, 201.0, 335.0, 28.0, 69.0, 158.0, 124.0, 196.0, 614.0, 174.0, 60.0, 83.0, 93.0, 61.0, 91.0, 137.0, 78.0, 67.0, 94.0, 16.0, 33.0, 39.0, 22.0, 76.0, 58.0, 97.0, 12.0, 96.0, 29.0, 86.0, 133.0, 126.0, 106.0, 107.0, 47.0, 64.0, 34.0, 40.0, 50.0, 20.0, 10.0, 70.0, 563.0, 15.0, 10.0, 22.0, 19.0, 44.0, 3.0, 20.0, 19.0, 27.0, 34.0, 55.0, 82.0, 35.0, 69.0, 53.0, 31.0, 32.0, 77.0, 13.0, 15.0, 6.0, 13.0, 42.0, 21.0, 7.0, 5.0, 1.0, 7.0, 10.0, 0.0, 0.0, 0.0, 0.0, 7.0, 4.0, 3.0, 0.0, 1.0, 3.0, 0.0, 2.0, 0.0, 0.0, 0.0, 0.0, 0.0, 0.0, 0.0, 1.0, 2.0], \"type\": \"scattergeo\"}],\n",
       "                        {\"coloraxis\": {\"colorbar\": {\"title\": {\"text\": \"Confirmed\"}}, \"colorscale\": [[0.0, \"#0d0887\"], [0.1111111111111111, \"#46039f\"], [0.2222222222222222, \"#7201a8\"], [0.3333333333333333, \"#9c179e\"], [0.4444444444444444, \"#bd3786\"], [0.5555555555555556, \"#d8576b\"], [0.6666666666666666, \"#ed7953\"], [0.7777777777777778, \"#fb9f3a\"], [0.8888888888888888, \"#fdca26\"], [1.0, \"#f0f921\"]]}, \"geo\": {\"center\": {}, \"domain\": {\"x\": [0.0, 1.0], \"y\": [0.0, 1.0]}}, \"legend\": {\"itemsizing\": \"constant\", \"tracegroupgap\": 0}, \"margin\": {\"t\": 60}, \"template\": {\"data\": {\"bar\": [{\"error_x\": {\"color\": \"#f2f5fa\"}, \"error_y\": {\"color\": \"#f2f5fa\"}, \"marker\": {\"line\": {\"color\": \"rgb(17,17,17)\", \"width\": 0.5}}, \"type\": \"bar\"}], \"barpolar\": [{\"marker\": {\"line\": {\"color\": \"rgb(17,17,17)\", \"width\": 0.5}}, \"type\": \"barpolar\"}], \"carpet\": [{\"aaxis\": {\"endlinecolor\": \"#A2B1C6\", \"gridcolor\": \"#506784\", \"linecolor\": \"#506784\", \"minorgridcolor\": \"#506784\", \"startlinecolor\": \"#A2B1C6\"}, \"baxis\": {\"endlinecolor\": \"#A2B1C6\", \"gridcolor\": \"#506784\", \"linecolor\": \"#506784\", \"minorgridcolor\": \"#506784\", \"startlinecolor\": \"#A2B1C6\"}, \"type\": \"carpet\"}], \"choropleth\": [{\"colorbar\": {\"outlinewidth\": 0, \"ticks\": \"\"}, \"type\": \"choropleth\"}], \"contour\": [{\"colorbar\": {\"outlinewidth\": 0, \"ticks\": \"\"}, \"colorscale\": [[0.0, \"#0d0887\"], [0.1111111111111111, \"#46039f\"], [0.2222222222222222, \"#7201a8\"], [0.3333333333333333, \"#9c179e\"], [0.4444444444444444, \"#bd3786\"], [0.5555555555555556, \"#d8576b\"], [0.6666666666666666, \"#ed7953\"], [0.7777777777777778, \"#fb9f3a\"], [0.8888888888888888, \"#fdca26\"], [1.0, \"#f0f921\"]], \"type\": \"contour\"}], \"contourcarpet\": [{\"colorbar\": {\"outlinewidth\": 0, \"ticks\": \"\"}, \"type\": \"contourcarpet\"}], \"heatmap\": [{\"colorbar\": {\"outlinewidth\": 0, \"ticks\": \"\"}, \"colorscale\": [[0.0, \"#0d0887\"], [0.1111111111111111, \"#46039f\"], [0.2222222222222222, \"#7201a8\"], [0.3333333333333333, \"#9c179e\"], [0.4444444444444444, \"#bd3786\"], [0.5555555555555556, \"#d8576b\"], [0.6666666666666666, \"#ed7953\"], [0.7777777777777778, \"#fb9f3a\"], [0.8888888888888888, \"#fdca26\"], [1.0, \"#f0f921\"]], \"type\": \"heatmap\"}], \"heatmapgl\": [{\"colorbar\": {\"outlinewidth\": 0, \"ticks\": \"\"}, \"colorscale\": [[0.0, \"#0d0887\"], [0.1111111111111111, \"#46039f\"], [0.2222222222222222, \"#7201a8\"], [0.3333333333333333, \"#9c179e\"], [0.4444444444444444, \"#bd3786\"], [0.5555555555555556, \"#d8576b\"], [0.6666666666666666, \"#ed7953\"], [0.7777777777777778, \"#fb9f3a\"], [0.8888888888888888, \"#fdca26\"], [1.0, \"#f0f921\"]], \"type\": \"heatmapgl\"}], \"histogram\": [{\"marker\": {\"colorbar\": {\"outlinewidth\": 0, \"ticks\": \"\"}}, \"type\": \"histogram\"}], \"histogram2d\": [{\"colorbar\": {\"outlinewidth\": 0, \"ticks\": \"\"}, \"colorscale\": [[0.0, \"#0d0887\"], [0.1111111111111111, \"#46039f\"], [0.2222222222222222, \"#7201a8\"], [0.3333333333333333, \"#9c179e\"], [0.4444444444444444, \"#bd3786\"], [0.5555555555555556, \"#d8576b\"], [0.6666666666666666, \"#ed7953\"], [0.7777777777777778, \"#fb9f3a\"], [0.8888888888888888, \"#fdca26\"], [1.0, \"#f0f921\"]], \"type\": \"histogram2d\"}], \"histogram2dcontour\": [{\"colorbar\": {\"outlinewidth\": 0, \"ticks\": \"\"}, \"colorscale\": [[0.0, \"#0d0887\"], [0.1111111111111111, \"#46039f\"], [0.2222222222222222, \"#7201a8\"], [0.3333333333333333, \"#9c179e\"], [0.4444444444444444, \"#bd3786\"], [0.5555555555555556, \"#d8576b\"], [0.6666666666666666, \"#ed7953\"], [0.7777777777777778, \"#fb9f3a\"], [0.8888888888888888, \"#fdca26\"], [1.0, \"#f0f921\"]], \"type\": \"histogram2dcontour\"}], \"mesh3d\": [{\"colorbar\": {\"outlinewidth\": 0, \"ticks\": \"\"}, \"type\": \"mesh3d\"}], \"parcoords\": [{\"line\": {\"colorbar\": {\"outlinewidth\": 0, \"ticks\": \"\"}}, \"type\": \"parcoords\"}], \"pie\": [{\"automargin\": true, \"type\": \"pie\"}], \"scatter\": [{\"marker\": {\"line\": {\"color\": \"#283442\"}}, \"type\": \"scatter\"}], \"scatter3d\": [{\"line\": {\"colorbar\": {\"outlinewidth\": 0, \"ticks\": \"\"}}, \"marker\": {\"colorbar\": {\"outlinewidth\": 0, \"ticks\": \"\"}}, \"type\": \"scatter3d\"}], \"scattercarpet\": [{\"marker\": {\"colorbar\": {\"outlinewidth\": 0, \"ticks\": \"\"}}, \"type\": \"scattercarpet\"}], \"scattergeo\": [{\"marker\": {\"colorbar\": {\"outlinewidth\": 0, \"ticks\": \"\"}}, \"type\": \"scattergeo\"}], \"scattergl\": [{\"marker\": {\"line\": {\"color\": \"#283442\"}}, \"type\": \"scattergl\"}], \"scattermapbox\": [{\"marker\": {\"colorbar\": {\"outlinewidth\": 0, \"ticks\": \"\"}}, \"type\": \"scattermapbox\"}], \"scatterpolar\": [{\"marker\": {\"colorbar\": {\"outlinewidth\": 0, \"ticks\": \"\"}}, \"type\": \"scatterpolar\"}], \"scatterpolargl\": [{\"marker\": {\"colorbar\": {\"outlinewidth\": 0, \"ticks\": \"\"}}, \"type\": \"scatterpolargl\"}], \"scatterternary\": [{\"marker\": {\"colorbar\": {\"outlinewidth\": 0, \"ticks\": \"\"}}, \"type\": \"scatterternary\"}], \"surface\": [{\"colorbar\": {\"outlinewidth\": 0, \"ticks\": \"\"}, \"colorscale\": [[0.0, \"#0d0887\"], [0.1111111111111111, \"#46039f\"], [0.2222222222222222, \"#7201a8\"], [0.3333333333333333, \"#9c179e\"], [0.4444444444444444, \"#bd3786\"], [0.5555555555555556, \"#d8576b\"], [0.6666666666666666, \"#ed7953\"], [0.7777777777777778, \"#fb9f3a\"], [0.8888888888888888, \"#fdca26\"], [1.0, \"#f0f921\"]], \"type\": \"surface\"}], \"table\": [{\"cells\": {\"fill\": {\"color\": \"#506784\"}, \"line\": {\"color\": \"rgb(17,17,17)\"}}, \"header\": {\"fill\": {\"color\": \"#2a3f5f\"}, \"line\": {\"color\": \"rgb(17,17,17)\"}}, \"type\": \"table\"}]}, \"layout\": {\"annotationdefaults\": {\"arrowcolor\": \"#f2f5fa\", \"arrowhead\": 0, \"arrowwidth\": 1}, \"coloraxis\": {\"colorbar\": {\"outlinewidth\": 0, \"ticks\": \"\"}}, \"colorscale\": {\"diverging\": [[0, \"#8e0152\"], [0.1, \"#c51b7d\"], [0.2, \"#de77ae\"], [0.3, \"#f1b6da\"], [0.4, \"#fde0ef\"], [0.5, \"#f7f7f7\"], [0.6, \"#e6f5d0\"], [0.7, \"#b8e186\"], [0.8, \"#7fbc41\"], [0.9, \"#4d9221\"], [1, \"#276419\"]], \"sequential\": [[0.0, \"#0d0887\"], [0.1111111111111111, \"#46039f\"], [0.2222222222222222, \"#7201a8\"], [0.3333333333333333, \"#9c179e\"], [0.4444444444444444, \"#bd3786\"], [0.5555555555555556, \"#d8576b\"], [0.6666666666666666, \"#ed7953\"], [0.7777777777777778, \"#fb9f3a\"], [0.8888888888888888, \"#fdca26\"], [1.0, \"#f0f921\"]], \"sequentialminus\": [[0.0, \"#0d0887\"], [0.1111111111111111, \"#46039f\"], [0.2222222222222222, \"#7201a8\"], [0.3333333333333333, \"#9c179e\"], [0.4444444444444444, \"#bd3786\"], [0.5555555555555556, \"#d8576b\"], [0.6666666666666666, \"#ed7953\"], [0.7777777777777778, \"#fb9f3a\"], [0.8888888888888888, \"#fdca26\"], [1.0, \"#f0f921\"]]}, \"colorway\": [\"#636efa\", \"#EF553B\", \"#00cc96\", \"#ab63fa\", \"#FFA15A\", \"#19d3f3\", \"#FF6692\", \"#B6E880\", \"#FF97FF\", \"#FECB52\"], \"font\": {\"color\": \"#f2f5fa\"}, \"geo\": {\"bgcolor\": \"rgb(17,17,17)\", \"lakecolor\": \"rgb(17,17,17)\", \"landcolor\": \"rgb(17,17,17)\", \"showlakes\": true, \"showland\": true, \"subunitcolor\": \"#506784\"}, \"hoverlabel\": {\"align\": \"left\"}, \"hovermode\": \"closest\", \"mapbox\": {\"style\": \"dark\"}, \"paper_bgcolor\": \"rgb(17,17,17)\", \"plot_bgcolor\": \"rgb(17,17,17)\", \"polar\": {\"angularaxis\": {\"gridcolor\": \"#506784\", \"linecolor\": \"#506784\", \"ticks\": \"\"}, \"bgcolor\": \"rgb(17,17,17)\", \"radialaxis\": {\"gridcolor\": \"#506784\", \"linecolor\": \"#506784\", \"ticks\": \"\"}}, \"scene\": {\"xaxis\": {\"backgroundcolor\": \"rgb(17,17,17)\", \"gridcolor\": \"#506784\", \"gridwidth\": 2, \"linecolor\": \"#506784\", \"showbackground\": true, \"ticks\": \"\", \"zerolinecolor\": \"#C8D4E3\"}, \"yaxis\": {\"backgroundcolor\": \"rgb(17,17,17)\", \"gridcolor\": \"#506784\", \"gridwidth\": 2, \"linecolor\": \"#506784\", \"showbackground\": true, \"ticks\": \"\", \"zerolinecolor\": \"#C8D4E3\"}, \"zaxis\": {\"backgroundcolor\": \"rgb(17,17,17)\", \"gridcolor\": \"#506784\", \"gridwidth\": 2, \"linecolor\": \"#506784\", \"showbackground\": true, \"ticks\": \"\", \"zerolinecolor\": \"#C8D4E3\"}}, \"shapedefaults\": {\"line\": {\"color\": \"#f2f5fa\"}}, \"sliderdefaults\": {\"bgcolor\": \"#C8D4E3\", \"bordercolor\": \"rgb(17,17,17)\", \"borderwidth\": 1, \"tickwidth\": 0}, \"ternary\": {\"aaxis\": {\"gridcolor\": \"#506784\", \"linecolor\": \"#506784\", \"ticks\": \"\"}, \"baxis\": {\"gridcolor\": \"#506784\", \"linecolor\": \"#506784\", \"ticks\": \"\"}, \"bgcolor\": \"rgb(17,17,17)\", \"caxis\": {\"gridcolor\": \"#506784\", \"linecolor\": \"#506784\", \"ticks\": \"\"}}, \"title\": {\"x\": 0.05}, \"updatemenudefaults\": {\"bgcolor\": \"#506784\", \"borderwidth\": 0}, \"xaxis\": {\"automargin\": true, \"gridcolor\": \"#283442\", \"linecolor\": \"#506784\", \"ticks\": \"\", \"title\": {\"standoff\": 15}, \"zerolinecolor\": \"#283442\", \"zerolinewidth\": 2}, \"yaxis\": {\"automargin\": true, \"gridcolor\": \"#283442\", \"linecolor\": \"#506784\", \"ticks\": \"\", \"title\": {\"standoff\": 15}, \"zerolinecolor\": \"#283442\", \"zerolinewidth\": 2}}}},\n",
       "                        {\"responsive\": true}\n",
       "                    ).then(function(){\n",
       "                            \n",
       "var gd = document.getElementById('779cb625-d8a0-4323-be2a-3728bbb9bdfa');\n",
       "var x = new MutationObserver(function (mutations, observer) {{\n",
       "        var display = window.getComputedStyle(gd).display;\n",
       "        if (!display || display === 'none') {{\n",
       "            console.log([gd, 'removed!']);\n",
       "            Plotly.purge(gd);\n",
       "            observer.disconnect();\n",
       "        }}\n",
       "}});\n",
       "\n",
       "// Listen for the removal of the full notebook cells\n",
       "var notebookContainer = gd.closest('#notebook-container');\n",
       "if (notebookContainer) {{\n",
       "    x.observe(notebookContainer, {childList: true});\n",
       "}}\n",
       "\n",
       "// Listen for the clearing of the current output cell\n",
       "var outputEl = gd.closest('.output');\n",
       "if (outputEl) {{\n",
       "    x.observe(outputEl, {childList: true});\n",
       "}}\n",
       "\n",
       "                        })\n",
       "                };\n",
       "                });\n",
       "            </script>\n",
       "        </div>"
      ]
     },
     "metadata": {},
     "output_type": "display_data"
    }
   ],
   "source": [
    "import plotly.express as px\n",
    "from data import countries_df\n",
    "\n",
    "map_figure = px.scatter_geo(countries_df,\n",
    "                            size=\"Confirmed\",\n",
    "                            size_max=50,\n",
    "                            hover_data={\"Confirmed\": \":,2f\", \"Deaths\":\":,2f\", \"Recovered\":\":,2f\", \"Country_Region\": False},\n",
    "                            hover_name=\"Country_Region\",\n",
    "                            locations=\"Country_Region\", \n",
    "                            locationmode=\"country names\", \n",
    "                            color=\"Confirmed\",\n",
    "                            template=\"plotly_dark\",\n",
    "                            text=\"Deaths\")\n",
    "map_figure.show()"
   ]
  }
 ],
 "metadata": {
  "kernelspec": {
   "display_name": "Python 3",
   "language": "python",
   "name": "python3"
  },
  "language_info": {
   "codemirror_mode": {
    "name": "ipython",
    "version": 3
   },
   "file_extension": ".py",
   "mimetype": "text/x-python",
   "name": "python",
   "nbconvert_exporter": "python",
   "pygments_lexer": "ipython3",
   "version": "3.8.5"
  }
 },
 "nbformat": 4,
 "nbformat_minor": 4
}
